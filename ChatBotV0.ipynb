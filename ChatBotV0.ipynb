{
 "cells": [
  {
   "cell_type": "markdown",
   "id": "307fdcf2-b21b-4536-86a5-aae1300d97e6",
   "metadata": {},
   "source": [
    "<h1 style=\"color: #3498db; font-weight: bold;\">V0 du chatbot GUI de Beyond The Sim</h1>\n",
    "<p style=\"font-size:18px; font-weight: bold;\">Cette version permet aux utilisateurs de choisir un abonnement et d'obtenir des informations sur les services.</p>\n",
    "<ul style=\"list-style-type: none; font-size:16px; color: #2c3e50; font-weight: bold;\">\n",
    "    <li>🛒 Choisir un abonnement : Choisis le type d'abonnement qui correspond à ton niveau en sim racing</li>\n",
    "    <li>💬 Questions sur mon abonnement : Demande des informations sur ton abonnement actuel, comme les options de changement ou de résiliation</li>\n",
    "    <li>🔧 Support technique : Trouve de l'aide pour des problèmes techniques, comme des soucis de livraison ou des questions sur les périphériques</li>\n",
    "    <li>📦 Suivi de commande : Suis l'état de ta commande en entrant ton numéro de commande ou en te connectant à ton compte</li>\n",
    "    <li>🎟️ Pass Propriétaire : Achète du matériel que tu as déjà loué à un prix réduit, selon son état.</li>\n",
    "</ul>\n"
   ]
  },
  {
   "cell_type": "code",
   "execution_count": 1,
   "id": "0e29cc29-0303-40dd-8e9a-ca40fbb8083b",
   "metadata": {},
   "outputs": [
    {
     "name": "stdout",
     "output_type": "stream",
     "text": [
      "\n",
      "Bienvenue chez Beyond The Sim ! GUI avec toi, Ta question concerne quoi ?\n",
      "1.🛒 Choisir un abonnement\n",
      "2.💬 Questions sur mon abonnement\n",
      "3.🔧 Support technique\n",
      "4.📦 Suivi de commande\n",
      "5.🎟️ Pass Propriétaire\n",
      "6.❌ Quitter\n"
     ]
    },
    {
     "name": "stdin",
     "output_type": "stream",
     "text": [
      "Comment puis-je t'aider ? Sélectionne une option en entrant son numéro :  1\n"
     ]
    },
    {
     "name": "stdout",
     "output_type": "stream",
     "text": [
      "\n",
      "Quel est ton niveau de sim racing ?\n",
      "1. Débutant\n",
      "2. Intermédiaire\n",
      "3. Perfectionnement\n"
     ]
    },
    {
     "name": "stdin",
     "output_type": "stream",
     "text": [
      "Comment puis-je t'aider ? Sélectionne une option en entrant son numéro :  6\n"
     ]
    },
    {
     "name": "stdout",
     "output_type": "stream",
     "text": [
      "Je n'ai pas bien compris ce que tu veux ! Peux-tu répéter ?\n"
     ]
    },
    {
     "name": "stdin",
     "output_type": "stream",
     "text": [
      "Veux-tu continuer ? (oui/non) :  non\n"
     ]
    },
    {
     "name": "stdout",
     "output_type": "stream",
     "text": [
      "Merci de ta visite !\n"
     ]
    }
   ],
   "source": [
    "import random\n",
    "\n",
    "def chatbot():\n",
    "    while True:\n",
    "        print(\"\\nBienvenue chez Beyond The Sim ! GUI avec toi, Ta question concerne quoi ?\")\n",
    "        if not menu_principal():\n",
    "            break\n",
    "\n",
    "def menu_principal():\n",
    "    while True:\n",
    "        print(\"1.🛒 Choisir un abonnement\")\n",
    "        print(\"2.💬 Questions sur mon abonnement\") \n",
    "        print(\"3.🔧 Support technique\")\n",
    "        print(\"4.📦 Suivi de commande\")\n",
    "        print(\"5.🎟️ Pass Propriétaire\")\n",
    "        print(\"6.❌ Quitter\")\n",
    "\n",
    "        choix = input(\"Comment puis-je t'aider ? Sélectionne une option en entrant son numéro : \")\n",
    "\n",
    "        if choix == \"1\":\n",
    "            if not choisir_abonnement():\n",
    "                return False\n",
    "        elif choix == \"2\":\n",
    "            if not questions_abonnement():\n",
    "                return False\n",
    "        elif choix == \"3\": \n",
    "            if not support_technique():\n",
    "                return False\n",
    "        elif choix == \"4\":\n",
    "            if not suivi_commande():\n",
    "                return False\n",
    "        elif choix == \"5\":\n",
    "            if not pass_proprietaire():\n",
    "                return False\n",
    "        elif choix == \"6\":\n",
    "            print(\"Merci de ta visite !\")\n",
    "            return False\n",
    "        else:\n",
    "            print(\"Je n'ai pas bien compris ce que tu veux ! Peux-tu répéter ?\")\n",
    "\n",
    "def choisir_abonnement():\n",
    "    print(\"\\nQuel est ton niveau de sim racing ?\")\n",
    "    print(\"1. Débutant\")\n",
    "    print(\"2. Intermédiaire\")\n",
    "    print(\"3. Perfectionnement\")\n",
    "\n",
    "    choix = input(\"Comment puis-je t'aider ? Sélectionne une option en entrant son numéro : \")\n",
    "\n",
    "    if choix == \"1\":\n",
    "        print(\"\\n**Offre Débutant**\")\n",
    "        print(\"- Sans engagement : 60€/mois\")\n",
    "        print(\"- Engagement 6 mois : 55€/mois\")\n",
    "        print(\"- Engagement 12 mois : 50€/mois\")\n",
    "    elif choix == \"2\":\n",
    "        print(\"\\n**Offre Intermédiaire**\")\n",
    "        print(\"- Sans engagement : 110€/mois\")\n",
    "        print(\"- Engagement 6 mois : 100€/mois\")\n",
    "        print(\"- Engagement 12 mois : 90€/mois\")\n",
    "    elif choix == \"3\":\n",
    "        print(\"\\n**Offre Perfectionnement**\")\n",
    "        print(\"- Sans engagement : 160€/mois\")\n",
    "        print(\"- Engagement 6 mois : 145€/mois\")\n",
    "        print(\"- Engagement 12 mois : 130€/mois\")\n",
    "    else:\n",
    "        print(\"Je n'ai pas bien compris ce que tu veux ! Peux-tu répéter ?\")\n",
    "    return continuer()\n",
    "\n",
    "def pass_proprietaire():\n",
    "    print(\"\\n**Pass Propriétaire - Achète ton matériel !**\")\n",
    "    print(\"Si tu as déjà loué du matériel et souhaites l’acheter, voici nos offres :\")\n",
    "    print(\"1. Débutant : entre 400 et 480€, réduction de 20% à 35% selon l’état du matériel.\")\n",
    "    print(\"2. Intermédiaire : entre 750€ et 880€, réduction de 20% à 30%.\")\n",
    "    print(\"3. Perfectionnement : entre 1 100€ et 1 280€, réduction de 20% à 30%.\")\n",
    "\n",
    "    niveau = input(\"Sélectionne ton niveau (1 pour Débutant, 2 pour Intermédiaire, 3 pour Perfectionnement) : \")\n",
    "\n",
    "    if niveau == \"1\":\n",
    "        print(\"Réduction de 20% à 35% :\")\n",
    "        print(\"- 20% pour un matériel presque neuf, rarement utilisé.\")\n",
    "        print(\"- 35% pour un matériel ayant servi régulièrement, mais encore parfaitement fonctionnel.\")\n",
    "        print(\"Nous te proposons d'examiner le matériel pour te donner le prix final.\")\n",
    "    elif niveau == \"2\":\n",
    "        print(\"Réduction de 20% à 30% :\")\n",
    "        print(\"- 20% pour un matériel presque neuf, rarement utilisé.\")\n",
    "        print(\"- 30% pour un matériel ayant servi régulièrement, mais encore parfaitement fonctionnel.\")\n",
    "        print(\"Nous te proposons d'examiner le matériel pour te donner le prix final.\")\n",
    "    elif niveau == \"3\":\n",
    "        print(\"Réduction de 20% à 30% :\")\n",
    "        print(\"- 20% pour un matériel presque neuf, rarement utilisé.\")\n",
    "        print(\"- 30% pour un matériel ayant servi régulièrement, mais encore parfaitement fonctionnel.\")\n",
    "        print(\"Nous te proposons d'examiner le matériel pour te donner le prix final.\")\n",
    "    else:\n",
    "        print(\"Je n'ai pas bien compris ton niveau !\")\n",
    "        return False\n",
    "\n",
    "    print(\"\\nTu peux faire une demande via ton compte utilisateur.\")\n",
    "    return continuer()\n",
    "\n",
    "def questions_abonnement():\n",
    "    print(\"\\nQuelle est ta question sur l'abonnement ?\")\n",
    "    print(\"1. Changer d'abonnement\")\n",
    "    print(\"2. Résilier mon abonnement\")\n",
    "    print(\"3. Paiement et facturation\")\n",
    "    print(\"4. Date de renouvellement d'abonnement\") \n",
    "    choix = input(\"Comment puis-je t'aider ? Sélectionne une option en entrant son numéro : \")\n",
    "\n",
    "    if choix == \"1\":\n",
    "        print(\"Tu peux changer ton abonnement dans ton espace utilisateur.\")\n",
    "    elif choix == \"2\":\n",
    "        print(\"Pour résilier, contacte le service client au 00.00.00.00.00 \")\n",
    "    elif choix == \"3\":\n",
    "        print(\"Les informations de paiement sont disponibles sur ton compte.\")\n",
    "    elif choix == \"4\":\n",
    "        print(\"Ton abonnement se renouvelle automatiquement chaque mois.\")\n",
    "    else:\n",
    "        print(\"Je n'ai pas bien compris ce que tu veux ! Peux-tu répéter ?\")\n",
    "    return continuer()\n",
    "  \n",
    "def support_technique():\n",
    "    print(\"\\nQuel type de support recherches-tu ?\")\n",
    "    print(\"1. Problèmes de livraison\")\n",
    "    print(\"2. Mode d'emploi des périphériques\")\n",
    "    choix = input(\"Comment puis-je t'aider ? Sélectionne une option en entrant son numéro : \")\n",
    "\n",
    "    if choix == \"1\":\n",
    "        print(\"Contacte notre service de livraison au 00.00.00.00.00\") \n",
    "    elif choix == \"2\":\n",
    "        print(\"Les modes d'emploi sont disponibles sur notre site web : https://www.notion.so/14a9ef2fddf98096b504fbc8ad7f52af?v=48078fc90b9149ee9007dbf7b07cabf4\")\n",
    "    else:\n",
    "        print(\"Je n'ai pas bien compris ce que tu veux ! Peux-tu répéter ?\")\n",
    "    return continuer()\n",
    "\n",
    "def suivi_commande():\n",
    "    print(\"\\nPour suivre ta commande, entre ton numéro de commande ou connecte-toi à ton compte utilisateur.\")\n",
    "    numero_commande = input(\"Numéro de commande : \")\n",
    "    print(f\"Ta commande {numero_commande} est en cours de traitement.\")\n",
    "    return continuer()\n",
    "\n",
    "def continuer():\n",
    "    choix = input(\"Veux-tu continuer ? (oui/non) : \")\n",
    "    if choix.lower() != \"oui\":\n",
    "        print(\"Merci de ta visite !\")\n",
    "        return False\n",
    "    return True   \n",
    "\n",
    "if __name__ == \"__main__\":         \n",
    "    chatbot()\n",
    "  "
   ]
  }
 ],
 "metadata": {
  "kernelspec": {
   "display_name": "Python [conda env:base] *",
   "language": "python",
   "name": "conda-base-py"
  },
  "language_info": {
   "codemirror_mode": {
    "name": "ipython",
    "version": 3
   },
   "file_extension": ".py",
   "mimetype": "text/x-python",
   "name": "python",
   "nbconvert_exporter": "python",
   "pygments_lexer": "ipython3",
   "version": "3.12.7"
  }
 },
 "nbformat": 4,
 "nbformat_minor": 5
}
